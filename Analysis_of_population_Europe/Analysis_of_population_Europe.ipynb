
%%sql
postgresql:///population_europe

    SELECT *
    FROM population_europe
    LIMIT 10

