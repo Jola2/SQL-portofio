

%%sql
postgresql:///population

    SELECT *
    FROM population
    LIMIT 10



