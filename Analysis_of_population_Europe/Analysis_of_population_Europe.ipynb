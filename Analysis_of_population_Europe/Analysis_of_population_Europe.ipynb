
SELECT *
FROM population_europe
LIMIT 10

